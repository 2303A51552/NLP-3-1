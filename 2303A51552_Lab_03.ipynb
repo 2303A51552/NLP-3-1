{
  "nbformat": 4,
  "nbformat_minor": 0,
  "metadata": {
    "colab": {
      "provenance": [],
      "authorship_tag": "ABX9TyM0FKASUKsxtsXMt5wfeLis",
      "include_colab_link": true
    },
    "kernelspec": {
      "name": "python3",
      "display_name": "Python 3"
    },
    "language_info": {
      "name": "python"
    }
  },
  "cells": [
    {
      "cell_type": "markdown",
      "metadata": {
        "id": "view-in-github",
        "colab_type": "text"
      },
      "source": [
        "<a href=\"https://colab.research.google.com/github/2303A51552/NLP-3-1/blob/main/2303A51552_Lab_03.ipynb\" target=\"_parent\"><img src=\"https://colab.research.google.com/assets/colab-badge.svg\" alt=\"Open In Colab\"/></a>"
      ]
    },
    {
      "cell_type": "code",
      "execution_count": 1,
      "metadata": {
        "id": "SLygDJS8u2Bx"
      },
      "outputs": [],
      "source": [
        "import pandas as pd"
      ]
    },
    {
      "cell_type": "code",
      "source": [
        "df=pd.read_csv('/content/bbc_news.csv')"
      ],
      "metadata": {
        "id": "kDhk3k19vCuj"
      },
      "execution_count": 2,
      "outputs": []
    },
    {
      "cell_type": "code",
      "source": [
        "df.head()"
      ],
      "metadata": {
        "id": "Hr8ztVWsvN5I",
        "colab": {
          "base_uri": "https://localhost:8080/",
          "height": 293
        },
        "outputId": "7a088680-7947-4c55-dc29-b7f371a41afe"
      },
      "execution_count": 3,
      "outputs": [
        {
          "output_type": "execute_result",
          "data": {
            "text/plain": [
              "                                               title  \\\n",
              "0  Ukraine: Angry Zelensky vows to punish Russian...   \n",
              "1  War in Ukraine: Taking cover in a town under a...   \n",
              "2         Ukraine war 'catastrophic for global food'   \n",
              "3  Manchester Arena bombing: Saffie Roussos's par...   \n",
              "4  Ukraine conflict: Oil price soars to highest l...   \n",
              "\n",
              "                         pubDate  \\\n",
              "0  Mon, 07 Mar 2022 08:01:56 GMT   \n",
              "1  Sun, 06 Mar 2022 22:49:58 GMT   \n",
              "2  Mon, 07 Mar 2022 00:14:42 GMT   \n",
              "3  Mon, 07 Mar 2022 00:05:40 GMT   \n",
              "4  Mon, 07 Mar 2022 08:15:53 GMT   \n",
              "\n",
              "                                               guid  \\\n",
              "0  https://www.bbc.co.uk/news/world-europe-60638042   \n",
              "1  https://www.bbc.co.uk/news/world-europe-60641873   \n",
              "2      https://www.bbc.co.uk/news/business-60623941   \n",
              "3            https://www.bbc.co.uk/news/uk-60579079   \n",
              "4      https://www.bbc.co.uk/news/business-60642786   \n",
              "\n",
              "                                                link  \\\n",
              "0  https://www.bbc.co.uk/news/world-europe-606380...   \n",
              "1  https://www.bbc.co.uk/news/world-europe-606418...   \n",
              "2  https://www.bbc.co.uk/news/business-60623941?a...   \n",
              "3  https://www.bbc.co.uk/news/uk-60579079?at_medi...   \n",
              "4  https://www.bbc.co.uk/news/business-60642786?a...   \n",
              "\n",
              "                                         description  \n",
              "0  The Ukrainian president says the country will ...  \n",
              "1  Jeremy Bowen was on the frontline in Irpin, as...  \n",
              "2  One of the world's biggest fertiliser firms sa...  \n",
              "3  The parents of the Manchester Arena bombing's ...  \n",
              "4  Consumers are feeling the impact of higher ene...  "
            ],
            "text/html": [
              "\n",
              "  <div id=\"df-3d93492d-8b54-4969-a8a7-99210fd30a19\" class=\"colab-df-container\">\n",
              "    <div>\n",
              "<style scoped>\n",
              "    .dataframe tbody tr th:only-of-type {\n",
              "        vertical-align: middle;\n",
              "    }\n",
              "\n",
              "    .dataframe tbody tr th {\n",
              "        vertical-align: top;\n",
              "    }\n",
              "\n",
              "    .dataframe thead th {\n",
              "        text-align: right;\n",
              "    }\n",
              "</style>\n",
              "<table border=\"1\" class=\"dataframe\">\n",
              "  <thead>\n",
              "    <tr style=\"text-align: right;\">\n",
              "      <th></th>\n",
              "      <th>title</th>\n",
              "      <th>pubDate</th>\n",
              "      <th>guid</th>\n",
              "      <th>link</th>\n",
              "      <th>description</th>\n",
              "    </tr>\n",
              "  </thead>\n",
              "  <tbody>\n",
              "    <tr>\n",
              "      <th>0</th>\n",
              "      <td>Ukraine: Angry Zelensky vows to punish Russian...</td>\n",
              "      <td>Mon, 07 Mar 2022 08:01:56 GMT</td>\n",
              "      <td>https://www.bbc.co.uk/news/world-europe-60638042</td>\n",
              "      <td>https://www.bbc.co.uk/news/world-europe-606380...</td>\n",
              "      <td>The Ukrainian president says the country will ...</td>\n",
              "    </tr>\n",
              "    <tr>\n",
              "      <th>1</th>\n",
              "      <td>War in Ukraine: Taking cover in a town under a...</td>\n",
              "      <td>Sun, 06 Mar 2022 22:49:58 GMT</td>\n",
              "      <td>https://www.bbc.co.uk/news/world-europe-60641873</td>\n",
              "      <td>https://www.bbc.co.uk/news/world-europe-606418...</td>\n",
              "      <td>Jeremy Bowen was on the frontline in Irpin, as...</td>\n",
              "    </tr>\n",
              "    <tr>\n",
              "      <th>2</th>\n",
              "      <td>Ukraine war 'catastrophic for global food'</td>\n",
              "      <td>Mon, 07 Mar 2022 00:14:42 GMT</td>\n",
              "      <td>https://www.bbc.co.uk/news/business-60623941</td>\n",
              "      <td>https://www.bbc.co.uk/news/business-60623941?a...</td>\n",
              "      <td>One of the world's biggest fertiliser firms sa...</td>\n",
              "    </tr>\n",
              "    <tr>\n",
              "      <th>3</th>\n",
              "      <td>Manchester Arena bombing: Saffie Roussos's par...</td>\n",
              "      <td>Mon, 07 Mar 2022 00:05:40 GMT</td>\n",
              "      <td>https://www.bbc.co.uk/news/uk-60579079</td>\n",
              "      <td>https://www.bbc.co.uk/news/uk-60579079?at_medi...</td>\n",
              "      <td>The parents of the Manchester Arena bombing's ...</td>\n",
              "    </tr>\n",
              "    <tr>\n",
              "      <th>4</th>\n",
              "      <td>Ukraine conflict: Oil price soars to highest l...</td>\n",
              "      <td>Mon, 07 Mar 2022 08:15:53 GMT</td>\n",
              "      <td>https://www.bbc.co.uk/news/business-60642786</td>\n",
              "      <td>https://www.bbc.co.uk/news/business-60642786?a...</td>\n",
              "      <td>Consumers are feeling the impact of higher ene...</td>\n",
              "    </tr>\n",
              "  </tbody>\n",
              "</table>\n",
              "</div>\n",
              "    <div class=\"colab-df-buttons\">\n",
              "\n",
              "  <div class=\"colab-df-container\">\n",
              "    <button class=\"colab-df-convert\" onclick=\"convertToInteractive('df-3d93492d-8b54-4969-a8a7-99210fd30a19')\"\n",
              "            title=\"Convert this dataframe to an interactive table.\"\n",
              "            style=\"display:none;\">\n",
              "\n",
              "  <svg xmlns=\"http://www.w3.org/2000/svg\" height=\"24px\" viewBox=\"0 -960 960 960\">\n",
              "    <path d=\"M120-120v-720h720v720H120Zm60-500h600v-160H180v160Zm220 220h160v-160H400v160Zm0 220h160v-160H400v160ZM180-400h160v-160H180v160Zm440 0h160v-160H620v160ZM180-180h160v-160H180v160Zm440 0h160v-160H620v160Z\"/>\n",
              "  </svg>\n",
              "    </button>\n",
              "\n",
              "  <style>\n",
              "    .colab-df-container {\n",
              "      display:flex;\n",
              "      gap: 12px;\n",
              "    }\n",
              "\n",
              "    .colab-df-convert {\n",
              "      background-color: #E8F0FE;\n",
              "      border: none;\n",
              "      border-radius: 50%;\n",
              "      cursor: pointer;\n",
              "      display: none;\n",
              "      fill: #1967D2;\n",
              "      height: 32px;\n",
              "      padding: 0 0 0 0;\n",
              "      width: 32px;\n",
              "    }\n",
              "\n",
              "    .colab-df-convert:hover {\n",
              "      background-color: #E2EBFA;\n",
              "      box-shadow: 0px 1px 2px rgba(60, 64, 67, 0.3), 0px 1px 3px 1px rgba(60, 64, 67, 0.15);\n",
              "      fill: #174EA6;\n",
              "    }\n",
              "\n",
              "    .colab-df-buttons div {\n",
              "      margin-bottom: 4px;\n",
              "    }\n",
              "\n",
              "    [theme=dark] .colab-df-convert {\n",
              "      background-color: #3B4455;\n",
              "      fill: #D2E3FC;\n",
              "    }\n",
              "\n",
              "    [theme=dark] .colab-df-convert:hover {\n",
              "      background-color: #434B5C;\n",
              "      box-shadow: 0px 1px 3px 1px rgba(0, 0, 0, 0.15);\n",
              "      filter: drop-shadow(0px 1px 2px rgba(0, 0, 0, 0.3));\n",
              "      fill: #FFFFFF;\n",
              "    }\n",
              "  </style>\n",
              "\n",
              "    <script>\n",
              "      const buttonEl =\n",
              "        document.querySelector('#df-3d93492d-8b54-4969-a8a7-99210fd30a19 button.colab-df-convert');\n",
              "      buttonEl.style.display =\n",
              "        google.colab.kernel.accessAllowed ? 'block' : 'none';\n",
              "\n",
              "      async function convertToInteractive(key) {\n",
              "        const element = document.querySelector('#df-3d93492d-8b54-4969-a8a7-99210fd30a19');\n",
              "        const dataTable =\n",
              "          await google.colab.kernel.invokeFunction('convertToInteractive',\n",
              "                                                    [key], {});\n",
              "        if (!dataTable) return;\n",
              "\n",
              "        const docLinkHtml = 'Like what you see? Visit the ' +\n",
              "          '<a target=\"_blank\" href=https://colab.research.google.com/notebooks/data_table.ipynb>data table notebook</a>'\n",
              "          + ' to learn more about interactive tables.';\n",
              "        element.innerHTML = '';\n",
              "        dataTable['output_type'] = 'display_data';\n",
              "        await google.colab.output.renderOutput(dataTable, element);\n",
              "        const docLink = document.createElement('div');\n",
              "        docLink.innerHTML = docLinkHtml;\n",
              "        element.appendChild(docLink);\n",
              "      }\n",
              "    </script>\n",
              "  </div>\n",
              "\n",
              "\n",
              "    <div id=\"df-8f386bb9-ac9e-4f8b-9ad9-e8de9e85c5db\">\n",
              "      <button class=\"colab-df-quickchart\" onclick=\"quickchart('df-8f386bb9-ac9e-4f8b-9ad9-e8de9e85c5db')\"\n",
              "                title=\"Suggest charts\"\n",
              "                style=\"display:none;\">\n",
              "\n",
              "<svg xmlns=\"http://www.w3.org/2000/svg\" height=\"24px\"viewBox=\"0 0 24 24\"\n",
              "     width=\"24px\">\n",
              "    <g>\n",
              "        <path d=\"M19 3H5c-1.1 0-2 .9-2 2v14c0 1.1.9 2 2 2h14c1.1 0 2-.9 2-2V5c0-1.1-.9-2-2-2zM9 17H7v-7h2v7zm4 0h-2V7h2v10zm4 0h-2v-4h2v4z\"/>\n",
              "    </g>\n",
              "</svg>\n",
              "      </button>\n",
              "\n",
              "<style>\n",
              "  .colab-df-quickchart {\n",
              "      --bg-color: #E8F0FE;\n",
              "      --fill-color: #1967D2;\n",
              "      --hover-bg-color: #E2EBFA;\n",
              "      --hover-fill-color: #174EA6;\n",
              "      --disabled-fill-color: #AAA;\n",
              "      --disabled-bg-color: #DDD;\n",
              "  }\n",
              "\n",
              "  [theme=dark] .colab-df-quickchart {\n",
              "      --bg-color: #3B4455;\n",
              "      --fill-color: #D2E3FC;\n",
              "      --hover-bg-color: #434B5C;\n",
              "      --hover-fill-color: #FFFFFF;\n",
              "      --disabled-bg-color: #3B4455;\n",
              "      --disabled-fill-color: #666;\n",
              "  }\n",
              "\n",
              "  .colab-df-quickchart {\n",
              "    background-color: var(--bg-color);\n",
              "    border: none;\n",
              "    border-radius: 50%;\n",
              "    cursor: pointer;\n",
              "    display: none;\n",
              "    fill: var(--fill-color);\n",
              "    height: 32px;\n",
              "    padding: 0;\n",
              "    width: 32px;\n",
              "  }\n",
              "\n",
              "  .colab-df-quickchart:hover {\n",
              "    background-color: var(--hover-bg-color);\n",
              "    box-shadow: 0 1px 2px rgba(60, 64, 67, 0.3), 0 1px 3px 1px rgba(60, 64, 67, 0.15);\n",
              "    fill: var(--button-hover-fill-color);\n",
              "  }\n",
              "\n",
              "  .colab-df-quickchart-complete:disabled,\n",
              "  .colab-df-quickchart-complete:disabled:hover {\n",
              "    background-color: var(--disabled-bg-color);\n",
              "    fill: var(--disabled-fill-color);\n",
              "    box-shadow: none;\n",
              "  }\n",
              "\n",
              "  .colab-df-spinner {\n",
              "    border: 2px solid var(--fill-color);\n",
              "    border-color: transparent;\n",
              "    border-bottom-color: var(--fill-color);\n",
              "    animation:\n",
              "      spin 1s steps(1) infinite;\n",
              "  }\n",
              "\n",
              "  @keyframes spin {\n",
              "    0% {\n",
              "      border-color: transparent;\n",
              "      border-bottom-color: var(--fill-color);\n",
              "      border-left-color: var(--fill-color);\n",
              "    }\n",
              "    20% {\n",
              "      border-color: transparent;\n",
              "      border-left-color: var(--fill-color);\n",
              "      border-top-color: var(--fill-color);\n",
              "    }\n",
              "    30% {\n",
              "      border-color: transparent;\n",
              "      border-left-color: var(--fill-color);\n",
              "      border-top-color: var(--fill-color);\n",
              "      border-right-color: var(--fill-color);\n",
              "    }\n",
              "    40% {\n",
              "      border-color: transparent;\n",
              "      border-right-color: var(--fill-color);\n",
              "      border-top-color: var(--fill-color);\n",
              "    }\n",
              "    60% {\n",
              "      border-color: transparent;\n",
              "      border-right-color: var(--fill-color);\n",
              "    }\n",
              "    80% {\n",
              "      border-color: transparent;\n",
              "      border-right-color: var(--fill-color);\n",
              "      border-bottom-color: var(--fill-color);\n",
              "    }\n",
              "    90% {\n",
              "      border-color: transparent;\n",
              "      border-bottom-color: var(--fill-color);\n",
              "    }\n",
              "  }\n",
              "</style>\n",
              "\n",
              "      <script>\n",
              "        async function quickchart(key) {\n",
              "          const quickchartButtonEl =\n",
              "            document.querySelector('#' + key + ' button');\n",
              "          quickchartButtonEl.disabled = true;  // To prevent multiple clicks.\n",
              "          quickchartButtonEl.classList.add('colab-df-spinner');\n",
              "          try {\n",
              "            const charts = await google.colab.kernel.invokeFunction(\n",
              "                'suggestCharts', [key], {});\n",
              "          } catch (error) {\n",
              "            console.error('Error during call to suggestCharts:', error);\n",
              "          }\n",
              "          quickchartButtonEl.classList.remove('colab-df-spinner');\n",
              "          quickchartButtonEl.classList.add('colab-df-quickchart-complete');\n",
              "        }\n",
              "        (() => {\n",
              "          let quickchartButtonEl =\n",
              "            document.querySelector('#df-8f386bb9-ac9e-4f8b-9ad9-e8de9e85c5db button');\n",
              "          quickchartButtonEl.style.display =\n",
              "            google.colab.kernel.accessAllowed ? 'block' : 'none';\n",
              "        })();\n",
              "      </script>\n",
              "    </div>\n",
              "\n",
              "    </div>\n",
              "  </div>\n"
            ],
            "application/vnd.google.colaboratory.intrinsic+json": {
              "type": "dataframe",
              "variable_name": "df",
              "summary": "{\n  \"name\": \"df\",\n  \"rows\": 42115,\n  \"fields\": [\n    {\n      \"column\": \"title\",\n      \"properties\": {\n        \"dtype\": \"string\",\n        \"num_unique_values\": 39653,\n        \"samples\": [\n          \"Ex-officer will not be prosecuted over 10 murders\",\n          \"Woman hit by royal police escort motorbike dies\",\n          \"CEO Secrets: 'Don't be trapped by your job title'\"\n        ],\n        \"semantic_type\": \"\",\n        \"description\": \"\"\n      }\n    },\n    {\n      \"column\": \"pubDate\",\n      \"properties\": {\n        \"dtype\": \"object\",\n        \"num_unique_values\": 40189,\n        \"samples\": [\n          \"Sat, 01 Jun 2024 21:31:46 GMT\",\n          \"Tue, 31 Jan 2023 10:16:02 GMT\",\n          \"Sun, 25 Aug 2024 19:49:41 GMT\"\n        ],\n        \"semantic_type\": \"\",\n        \"description\": \"\"\n      }\n    },\n    {\n      \"column\": \"guid\",\n      \"properties\": {\n        \"dtype\": \"string\",\n        \"num_unique_values\": 39203,\n        \"samples\": [\n          \"https://www.bbc.co.uk/news/business-66544391\",\n          \"https://www.bbc.com/news/articles/ckg2ryxp969o#4\",\n          \"https://www.bbc.co.uk/news/uk-wales-63616915\"\n        ],\n        \"semantic_type\": \"\",\n        \"description\": \"\"\n      }\n    },\n    {\n      \"column\": \"link\",\n      \"properties\": {\n        \"dtype\": \"string\",\n        \"num_unique_values\": 37856,\n        \"samples\": [\n          \"https://www.bbc.com/news/articles/c6p2p64zdxro\",\n          \"https://www.bbc.com/news/articles/cpwg3z4yqd8o\",\n          \"https://www.bbc.co.uk/news/uk-61122240?at_medium=RSS&at_campaign=KARANGA\"\n        ],\n        \"semantic_type\": \"\",\n        \"description\": \"\"\n      }\n    },\n    {\n      \"column\": \"description\",\n      \"properties\": {\n        \"dtype\": \"string\",\n        \"num_unique_values\": 38731,\n        \"samples\": [\n          \"Suspicion and frustration flared into crowd unrest and, in the background, an iconic image of a historic rivalry was captured.\",\n          \"The BBC's Celia Hatton breaks down Xi Jinping's caffeine habits, and why they might be a subtle power play.\",\n          \"They've usually got fur coats, but pets still need help to stay warm during wintry weather.\"\n        ],\n        \"semantic_type\": \"\",\n        \"description\": \"\"\n      }\n    }\n  ]\n}"
            }
          },
          "metadata": {},
          "execution_count": 3
        }
      ]
    },
    {
      "cell_type": "code",
      "source": [
        "description=df['description']\n",
        "print(\"Description:\\n\",description)"
      ],
      "metadata": {
        "colab": {
          "base_uri": "https://localhost:8080/"
        },
        "id": "AvcHX9FZvStK",
        "outputId": "ffae0bc0-fadd-4a9a-d158-1d321732d000"
      },
      "execution_count": 4,
      "outputs": [
        {
          "output_type": "stream",
          "name": "stdout",
          "text": [
            "Description:\n",
            " 0        The Ukrainian president says the country will ...\n",
            "1        Jeremy Bowen was on the frontline in Irpin, as...\n",
            "2        One of the world's biggest fertiliser firms sa...\n",
            "3        The parents of the Manchester Arena bombing's ...\n",
            "4        Consumers are feeling the impact of higher ene...\n",
            "                               ...                        \n",
            "42110    Watch highlights as Wales win 2-1 in Dublin fo...\n",
            "42111    More than two tonnes of the Class A drug was s...\n",
            "42112    Finance Secretary Shona Robison is preparing t...\n",
            "42113    Wales defeated the Republic of Ireland 2-1 mak...\n",
            "42114    Three children have not been back to the Belfa...\n",
            "Name: description, Length: 42115, dtype: object\n"
          ]
        }
      ]
    },
    {
      "cell_type": "code",
      "source": [
        "import nltk\n",
        "nltk.download('punkt')\n",
        "nltk.download('punkt_tab')\n",
        "nltk.download('stopwords')"
      ],
      "metadata": {
        "id": "xalawUelvZy2",
        "colab": {
          "base_uri": "https://localhost:8080/"
        },
        "outputId": "2bcdc2d5-5b13-409f-d9cb-bdc6313f2407"
      },
      "execution_count": 5,
      "outputs": [
        {
          "output_type": "stream",
          "name": "stderr",
          "text": [
            "[nltk_data] Downloading package punkt to /root/nltk_data...\n",
            "[nltk_data]   Unzipping tokenizers/punkt.zip.\n",
            "[nltk_data] Downloading package punkt_tab to /root/nltk_data...\n",
            "[nltk_data]   Unzipping tokenizers/punkt_tab.zip.\n",
            "[nltk_data] Downloading package stopwords to /root/nltk_data...\n",
            "[nltk_data]   Unzipping corpora/stopwords.zip.\n"
          ]
        },
        {
          "output_type": "execute_result",
          "data": {
            "text/plain": [
              "True"
            ]
          },
          "metadata": {},
          "execution_count": 5
        }
      ]
    },
    {
      "cell_type": "code",
      "source": [
        "from nltk.corpus import stopwords\n",
        "from nltk.tokenize import word_tokenize\n",
        "from sklearn.feature_extraction.text import CountVectorizer\n",
        "import string"
      ],
      "metadata": {
        "id": "-l1vps_iwuPK"
      },
      "execution_count": 6,
      "outputs": []
    },
    {
      "cell_type": "code",
      "source": [
        "description.str.lower()"
      ],
      "metadata": {
        "colab": {
          "base_uri": "https://localhost:8080/",
          "height": 458
        },
        "id": "VLkxh-yyw5Lj",
        "outputId": "9bc63570-b085-49a2-f921-a8e290b4066c"
      },
      "execution_count": 7,
      "outputs": [
        {
          "output_type": "execute_result",
          "data": {
            "text/plain": [
              "0        the ukrainian president says the country will ...\n",
              "1        jeremy bowen was on the frontline in irpin, as...\n",
              "2        one of the world's biggest fertiliser firms sa...\n",
              "3        the parents of the manchester arena bombing's ...\n",
              "4        consumers are feeling the impact of higher ene...\n",
              "                               ...                        \n",
              "42110    watch highlights as wales win 2-1 in dublin fo...\n",
              "42111    more than two tonnes of the class a drug was s...\n",
              "42112    finance secretary shona robison is preparing t...\n",
              "42113    wales defeated the republic of ireland 2-1 mak...\n",
              "42114    three children have not been back to the belfa...\n",
              "Name: description, Length: 42115, dtype: object"
            ],
            "text/html": [
              "<div>\n",
              "<style scoped>\n",
              "    .dataframe tbody tr th:only-of-type {\n",
              "        vertical-align: middle;\n",
              "    }\n",
              "\n",
              "    .dataframe tbody tr th {\n",
              "        vertical-align: top;\n",
              "    }\n",
              "\n",
              "    .dataframe thead th {\n",
              "        text-align: right;\n",
              "    }\n",
              "</style>\n",
              "<table border=\"1\" class=\"dataframe\">\n",
              "  <thead>\n",
              "    <tr style=\"text-align: right;\">\n",
              "      <th></th>\n",
              "      <th>description</th>\n",
              "    </tr>\n",
              "  </thead>\n",
              "  <tbody>\n",
              "    <tr>\n",
              "      <th>0</th>\n",
              "      <td>the ukrainian president says the country will ...</td>\n",
              "    </tr>\n",
              "    <tr>\n",
              "      <th>1</th>\n",
              "      <td>jeremy bowen was on the frontline in irpin, as...</td>\n",
              "    </tr>\n",
              "    <tr>\n",
              "      <th>2</th>\n",
              "      <td>one of the world's biggest fertiliser firms sa...</td>\n",
              "    </tr>\n",
              "    <tr>\n",
              "      <th>3</th>\n",
              "      <td>the parents of the manchester arena bombing's ...</td>\n",
              "    </tr>\n",
              "    <tr>\n",
              "      <th>4</th>\n",
              "      <td>consumers are feeling the impact of higher ene...</td>\n",
              "    </tr>\n",
              "    <tr>\n",
              "      <th>...</th>\n",
              "      <td>...</td>\n",
              "    </tr>\n",
              "    <tr>\n",
              "      <th>42110</th>\n",
              "      <td>watch highlights as wales win 2-1 in dublin fo...</td>\n",
              "    </tr>\n",
              "    <tr>\n",
              "      <th>42111</th>\n",
              "      <td>more than two tonnes of the class a drug was s...</td>\n",
              "    </tr>\n",
              "    <tr>\n",
              "      <th>42112</th>\n",
              "      <td>finance secretary shona robison is preparing t...</td>\n",
              "    </tr>\n",
              "    <tr>\n",
              "      <th>42113</th>\n",
              "      <td>wales defeated the republic of ireland 2-1 mak...</td>\n",
              "    </tr>\n",
              "    <tr>\n",
              "      <th>42114</th>\n",
              "      <td>three children have not been back to the belfa...</td>\n",
              "    </tr>\n",
              "  </tbody>\n",
              "</table>\n",
              "<p>42115 rows × 1 columns</p>\n",
              "</div><br><label><b>dtype:</b> object</label>"
            ]
          },
          "metadata": {},
          "execution_count": 7
        }
      ]
    },
    {
      "cell_type": "code",
      "source": [
        "import re\n",
        "def preprocess_text(text):\n",
        "    text=text.lower()\n",
        "    text=text.translate(str.maketrans('', '', string.punctuation)) # Remove punctuation\n",
        "    text=re.sub(r'[^a-zA-Z0-9\\s]', '', text)\n",
        "    tokens=word_tokenize(text)#tokenization\n",
        "    stop_words=set(stopwords.words('english'))#stop words\n",
        "    tokens=[word for word in tokens if word not in stop_words]\n",
        "    return \" \".join(tokens)\n",
        "df[\"cleaned_text\"]=df[\"description\"].astype(str).apply(preprocess_text)\n",
        "print(df)"
      ],
      "metadata": {
        "colab": {
          "base_uri": "https://localhost:8080/"
        },
        "id": "SMIu1RzExEaX",
        "outputId": "34ced93a-f3f9-4558-e398-f631a6b95860"
      },
      "execution_count": 8,
      "outputs": [
        {
          "output_type": "stream",
          "name": "stdout",
          "text": [
            "                                                   title  \\\n",
            "0      Ukraine: Angry Zelensky vows to punish Russian...   \n",
            "1      War in Ukraine: Taking cover in a town under a...   \n",
            "2             Ukraine war 'catastrophic for global food'   \n",
            "3      Manchester Arena bombing: Saffie Roussos's par...   \n",
            "4      Ukraine conflict: Oil price soars to highest l...   \n",
            "...                                                  ...   \n",
            "42110           Highlights: Wales make history in Dublin   \n",
            "42111  Gang jailed over £200m of cocaine in banana boxes   \n",
            "42112   Scottish Budget presents huge challenges for SNP   \n",
            "42113  Celebrations as Wales make history qualifying ...   \n",
            "42114  School tells Muslim girls it’s ‘not safe’ for ...   \n",
            "\n",
            "                             pubDate  \\\n",
            "0      Mon, 07 Mar 2022 08:01:56 GMT   \n",
            "1      Sun, 06 Mar 2022 22:49:58 GMT   \n",
            "2      Mon, 07 Mar 2022 00:14:42 GMT   \n",
            "3      Mon, 07 Mar 2022 00:05:40 GMT   \n",
            "4      Mon, 07 Mar 2022 08:15:53 GMT   \n",
            "...                              ...   \n",
            "42110  Tue, 03 Dec 2024 23:07:27 GMT   \n",
            "42111  Tue, 03 Dec 2024 17:48:54 GMT   \n",
            "42112  Tue, 03 Dec 2024 23:00:17 GMT   \n",
            "42113  Wed, 04 Dec 2024 00:05:52 GMT   \n",
            "42114  Wed, 04 Dec 2024 00:03:58 GMT   \n",
            "\n",
            "                                                    guid  \\\n",
            "0       https://www.bbc.co.uk/news/world-europe-60638042   \n",
            "1       https://www.bbc.co.uk/news/world-europe-60641873   \n",
            "2           https://www.bbc.co.uk/news/business-60623941   \n",
            "3                 https://www.bbc.co.uk/news/uk-60579079   \n",
            "4           https://www.bbc.co.uk/news/business-60642786   \n",
            "...                                                  ...   \n",
            "42110  https://www.bbc.com/sport/football/videos/ckg1...   \n",
            "42111   https://www.bbc.com/news/articles/c3e8pvg284no#9   \n",
            "42112   https://www.bbc.com/news/articles/ckg1m1j2grpo#9   \n",
            "42113   https://www.bbc.com/news/articles/c791nq8nl73o#9   \n",
            "42114   https://www.bbc.com/news/articles/cx2wk0k4597o#9   \n",
            "\n",
            "                                                    link  \\\n",
            "0      https://www.bbc.co.uk/news/world-europe-606380...   \n",
            "1      https://www.bbc.co.uk/news/world-europe-606418...   \n",
            "2      https://www.bbc.co.uk/news/business-60623941?a...   \n",
            "3      https://www.bbc.co.uk/news/uk-60579079?at_medi...   \n",
            "4      https://www.bbc.co.uk/news/business-60642786?a...   \n",
            "...                                                  ...   \n",
            "42110  https://www.bbc.com/sport/football/videos/ckg1...   \n",
            "42111     https://www.bbc.com/news/articles/c3e8pvg284no   \n",
            "42112     https://www.bbc.com/news/articles/ckg1m1j2grpo   \n",
            "42113     https://www.bbc.com/news/articles/c791nq8nl73o   \n",
            "42114     https://www.bbc.com/news/articles/cx2wk0k4597o   \n",
            "\n",
            "                                             description  \\\n",
            "0      The Ukrainian president says the country will ...   \n",
            "1      Jeremy Bowen was on the frontline in Irpin, as...   \n",
            "2      One of the world's biggest fertiliser firms sa...   \n",
            "3      The parents of the Manchester Arena bombing's ...   \n",
            "4      Consumers are feeling the impact of higher ene...   \n",
            "...                                                  ...   \n",
            "42110  Watch highlights as Wales win 2-1 in Dublin fo...   \n",
            "42111  More than two tonnes of the Class A drug was s...   \n",
            "42112  Finance Secretary Shona Robison is preparing t...   \n",
            "42113  Wales defeated the Republic of Ireland 2-1 mak...   \n",
            "42114  Three children have not been back to the Belfa...   \n",
            "\n",
            "                                            cleaned_text  \n",
            "0      ukrainian president says country forgive forge...  \n",
            "1      jeremy bowen frontline irpin residents came ru...  \n",
            "2      one worlds biggest fertiliser firms says confl...  \n",
            "3      parents manchester arena bombings youngest vic...  \n",
            "4      consumers feeling impact higher energy costs f...  \n",
            "...                                                  ...  \n",
            "42110  watch highlights wales win 21 dublin 32 aggreg...  \n",
            "42111  two tonnes class drug seized shipment colombia...  \n",
            "42112  finance secretary shona robison preparing set ...  \n",
            "42113  wales defeated republic ireland 21 making foot...  \n",
            "42114  three children back belfast model school girls...  \n",
            "\n",
            "[42115 rows x 6 columns]\n"
          ]
        }
      ]
    },
    {
      "cell_type": "code",
      "source": [
        "vectorizer=CountVectorizer()\n",
        "X=vectorizer.fit_transform(df[\"cleaned_text\"])\n",
        "print(X)"
      ],
      "metadata": {
        "colab": {
          "base_uri": "https://localhost:8080/"
        },
        "id": "SZWhO7G4x_lM",
        "outputId": "6e9695f6-6f05-4579-f8ec-1bada13ad07e"
      },
      "execution_count": 9,
      "outputs": [
        {
          "output_type": "stream",
          "name": "stdout",
          "text": [
            "<Compressed Sparse Row sparse matrix of dtype 'int64'\n",
            "\twith 457291 stored elements and shape (42115, 35811)>\n",
            "  Coords\tValues\n",
            "  (0, 33308)\t1\n",
            "  (0, 25306)\t1\n",
            "  (0, 28320)\t1\n",
            "  (0, 8445)\t1\n",
            "  (0, 13304)\t1\n",
            "  (0, 13302)\t1\n",
            "  (0, 21941)\t1\n",
            "  (0, 7226)\t1\n",
            "  (1, 17503)\t1\n",
            "  (1, 5423)\t1\n",
            "  (1, 13599)\t1\n",
            "  (1, 17141)\t1\n",
            "  (1, 27089)\t1\n",
            "  (1, 6210)\t1\n",
            "  (1, 27920)\t1\n",
            "  (1, 12879)\t1\n",
            "  (1, 33019)\t1\n",
            "  (1, 13068)\t1\n",
            "  (2, 28320)\t1\n",
            "  (2, 23203)\t1\n",
            "  (2, 35332)\t1\n",
            "  (2, 4827)\t1\n",
            "  (2, 12685)\t1\n",
            "  (2, 12905)\t1\n",
            "  (2, 7945)\t1\n",
            "  :\t:\n",
            "  (42112, 25276)\t1\n",
            "  (42112, 12827)\t1\n",
            "  (42112, 27560)\t1\n",
            "  (42113, 12906)\t1\n",
            "  (42113, 34506)\t1\n",
            "  (42113, 20056)\t1\n",
            "  (42113, 32672)\t1\n",
            "  (42113, 17120)\t1\n",
            "  (42113, 694)\t1\n",
            "  (42113, 15789)\t1\n",
            "  (42113, 20039)\t1\n",
            "  (42113, 27019)\t1\n",
            "  (42113, 9358)\t1\n",
            "  (42113, 13243)\t1\n",
            "  (42114, 29544)\t1\n",
            "  (42114, 7045)\t1\n",
            "  (42114, 4593)\t1\n",
            "  (42114, 3980)\t1\n",
            "  (42114, 32240)\t1\n",
            "  (42114, 3602)\t1\n",
            "  (42114, 28428)\t1\n",
            "  (42114, 14183)\t1\n",
            "  (42114, 2659)\t1\n",
            "  (42114, 21456)\t1\n",
            "  (42114, 22825)\t1\n"
          ]
        }
      ]
    },
    {
      "cell_type": "code",
      "source": [
        "import matplotlib.pyplot as plt"
      ],
      "metadata": {
        "id": "L54sMtXsyG2v"
      },
      "execution_count": 10,
      "outputs": []
    },
    {
      "cell_type": "code",
      "source": [
        "allwords=\" \".join(df[\"cleaned_text\"]).split()\n",
        "# Count words one by one\n",
        "wordfreq={}\n",
        "for word in allwords:\n",
        "    if word in wordfreq:\n",
        "        wordfreq[word]+=1\n",
        "    else:\n",
        "        wordfreq[word]=1"
      ],
      "metadata": {
        "id": "OUmEdGTlyruh"
      },
      "execution_count": 11,
      "outputs": []
    },
    {
      "cell_type": "code",
      "source": [
        "sorted_words=sorted(wordfreq.items(),key=lambda x:x[1],reverse=True)[:20]\n",
        "words=[w for w, c in sorted_words]\n",
        "counts=[c for w, c in sorted_words]\n",
        "plt.bar(words,counts)\n",
        "plt.xticks(rotation=45)\n",
        "plt.xlabel(\"Words\")\n",
        "plt.ylabel(\"Frequency\")\n",
        "plt.title(\"Most frequent 20 Words in Article description\")\n",
        "plt.show()"
      ],
      "metadata": {
        "colab": {
          "base_uri": "https://localhost:8080/",
          "height": 526
        },
        "id": "blvcmJ6l0JfZ",
        "outputId": "7ba35b5f-d4b0-4ce4-83ff-4f248c3abe30"
      },
      "execution_count": 12,
      "outputs": [
        {
          "output_type": "display_data",
          "data": {
            "text/plain": [
              "<Figure size 640x480 with 1 Axes>"
            ],
            "image/png": "[encoded data removed]"
          },
          "metadata": {}
        }
      ]
    },
    {
      "cell_type": "code",
      "source": [
        "df['article_length']=df['cleaned_text'].apply(lambda x: len(x.split()))\n",
        "plt.figure(figsize=(10,6))\n",
        "plt.hist(df['article_length'],bins=50,color='skyblue',edgecolor='black')\n",
        "plt.xlabel('Article Length')\n",
        "plt.ylabel('Frequency')\n",
        "plt.title('Distribution of Article Lengths')\n",
        "plt.show()"
      ],
      "metadata": {
        "colab": {
          "base_uri": "https://localhost:8080/",
          "height": 564
        },
        "id": "QFbuIupq2RKR",
        "outputId": "c2b2a24e-3f45-4e60-ac03-a5e908f263f9"
      },
      "execution_count": 13,
      "outputs": [
        {
          "output_type": "display_data",
          "data": {
            "text/plain": [
              "<Figure size 1000x600 with 1 Axes>"
            ],
            "image/png": "[encoded data removed]"
          },
          "metadata": {}
        }
      ]
    },
    {
      "cell_type": "code",
      "source": [
        "vectorizer=CountVectorizer()\n",
        "X = vectorizer.fit_transform(df['cleaned_text'])\n",
        "print(\"Bag-of-Words features: shape:\", X.shape)"
      ],
      "metadata": {
        "colab": {
          "base_uri": "https://localhost:8080/"
        },
        "id": "UddnCKGP2hp7",
        "outputId": "ba00541b-2465-4396-f5c1-2755f5f10f52"
      },
      "execution_count": 14,
      "outputs": [
        {
          "output_type": "stream",
          "name": "stdout",
          "text": [
            "Bag-of-Words features: shape: (42115, 35811)\n"
          ]
        }
      ]
    }
  ]
}