{
  "nbformat": 4,
  "nbformat_minor": 0,
  "metadata": {
    "colab": {
      "provenance": []
    },
    "kernelspec": {
      "name": "python3",
      "display_name": "Python 3"
    },
    "language_info": {
      "name": "python"
    }
  },
  "cells": [
    {
      "cell_type": "code",
      "execution_count": null,
      "metadata": {
        "id": "hKBUe_fu4n1x",
        "colab": {
          "base_uri": "https://localhost:8080/"
        },
        "outputId": "2f176593-e1fc-417c-fb86-aa4c1e965590"
      },
      "outputs": [
        {
          "output_type": "stream",
          "name": "stdout",
          "text": [
            "Requirement already satisfied: pandas in /usr/local/lib/python3.11/dist-packages (2.2.2)\n",
            "Requirement already satisfied: spacy in /usr/local/lib/python3.11/dist-packages (3.8.7)\n",
            "Requirement already satisfied: numpy>=1.23.2 in /usr/local/lib/python3.11/dist-packages (from pandas) (2.0.2)\n",
            "Requirement already satisfied: python-dateutil>=2.8.2 in /usr/local/lib/python3.11/dist-packages (from pandas) (2.9.0.post0)\n",
            "Requirement already satisfied: pytz>=2020.1 in /usr/local/lib/python3.11/dist-packages (from pandas) (2025.2)\n",
            "Requirement already satisfied: tzdata>=2022.7 in /usr/local/lib/python3.11/dist-packages (from pandas) (2025.2)\n",
            "Requirement already satisfied: spacy-legacy<3.1.0,>=3.0.11 in /usr/local/lib/python3.11/dist-packages (from spacy) (3.0.12)\n",
            "Requirement already satisfied: spacy-loggers<2.0.0,>=1.0.0 in /usr/local/lib/python3.11/dist-packages (from spacy) (1.0.5)\n",
            "Requirement already satisfied: murmurhash<1.1.0,>=0.28.0 in /usr/local/lib/python3.11/dist-packages (from spacy) (1.0.13)\n",
            "Requirement already satisfied: cymem<2.1.0,>=2.0.2 in /usr/local/lib/python3.11/dist-packages (from spacy) (2.0.11)\n",
            "Requirement already satisfied: preshed<3.1.0,>=3.0.2 in /usr/local/lib/python3.11/dist-packages (from spacy) (3.0.10)\n",
            "Requirement already satisfied: thinc<8.4.0,>=8.3.4 in /usr/local/lib/python3.11/dist-packages (from spacy) (8.3.6)\n",
            "Requirement already satisfied: wasabi<1.2.0,>=0.9.1 in /usr/local/lib/python3.11/dist-packages (from spacy) (1.1.3)\n",
            "Requirement already satisfied: srsly<3.0.0,>=2.4.3 in /usr/local/lib/python3.11/dist-packages (from spacy) (2.5.1)\n",
            "Requirement already satisfied: catalogue<2.1.0,>=2.0.6 in /usr/local/lib/python3.11/dist-packages (from spacy) (2.0.10)\n",
            "Requirement already satisfied: weasel<0.5.0,>=0.1.0 in /usr/local/lib/python3.11/dist-packages (from spacy) (0.4.1)\n",
            "Requirement already satisfied: typer<1.0.0,>=0.3.0 in /usr/local/lib/python3.11/dist-packages (from spacy) (0.16.0)\n",
            "Requirement already satisfied: tqdm<5.0.0,>=4.38.0 in /usr/local/lib/python3.11/dist-packages (from spacy) (4.67.1)\n",
            "Requirement already satisfied: requests<3.0.0,>=2.13.0 in /usr/local/lib/python3.11/dist-packages (from spacy) (2.32.3)\n",
            "Requirement already satisfied: pydantic!=1.8,!=1.8.1,<3.0.0,>=1.7.4 in /usr/local/lib/python3.11/dist-packages (from spacy) (2.11.7)\n",
            "Requirement already satisfied: jinja2 in /usr/local/lib/python3.11/dist-packages (from spacy) (3.1.6)\n",
            "Requirement already satisfied: setuptools in /usr/local/lib/python3.11/dist-packages (from spacy) (75.2.0)\n",
            "Requirement already satisfied: packaging>=20.0 in /usr/local/lib/python3.11/dist-packages (from spacy) (25.0)\n",
            "Requirement already satisfied: langcodes<4.0.0,>=3.2.0 in /usr/local/lib/python3.11/dist-packages (from spacy) (3.5.0)\n",
            "Requirement already satisfied: language-data>=1.2 in /usr/local/lib/python3.11/dist-packages (from langcodes<4.0.0,>=3.2.0->spacy) (1.3.0)\n",
            "Requirement already satisfied: annotated-types>=0.6.0 in /usr/local/lib/python3.11/dist-packages (from pydantic!=1.8,!=1.8.1,<3.0.0,>=1.7.4->spacy) (0.7.0)\n",
            "Requirement already satisfied: pydantic-core==2.33.2 in /usr/local/lib/python3.11/dist-packages (from pydantic!=1.8,!=1.8.1,<3.0.0,>=1.7.4->spacy) (2.33.2)\n",
            "Requirement already satisfied: typing-extensions>=4.12.2 in /usr/local/lib/python3.11/dist-packages (from pydantic!=1.8,!=1.8.1,<3.0.0,>=1.7.4->spacy) (4.14.1)\n",
            "Requirement already satisfied: typing-inspection>=0.4.0 in /usr/local/lib/python3.11/dist-packages (from pydantic!=1.8,!=1.8.1,<3.0.0,>=1.7.4->spacy) (0.4.1)\n",
            "Requirement already satisfied: six>=1.5 in /usr/local/lib/python3.11/dist-packages (from python-dateutil>=2.8.2->pandas) (1.17.0)\n",
            "Requirement already satisfied: charset-normalizer<4,>=2 in /usr/local/lib/python3.11/dist-packages (from requests<3.0.0,>=2.13.0->spacy) (3.4.2)\n",
            "Requirement already satisfied: idna<4,>=2.5 in /usr/local/lib/python3.11/dist-packages (from requests<3.0.0,>=2.13.0->spacy) (3.10)\n",
            "Requirement already satisfied: urllib3<3,>=1.21.1 in /usr/local/lib/python3.11/dist-packages (from requests<3.0.0,>=2.13.0->spacy) (2.5.0)\n",
            "Requirement already satisfied: certifi>=2017.4.17 in /usr/local/lib/python3.11/dist-packages (from requests<3.0.0,>=2.13.0->spacy) (2025.7.14)\n",
            "Requirement already satisfied: blis<1.4.0,>=1.3.0 in /usr/local/lib/python3.11/dist-packages (from thinc<8.4.0,>=8.3.4->spacy) (1.3.0)\n",
            "Requirement already satisfied: confection<1.0.0,>=0.0.1 in /usr/local/lib/python3.11/dist-packages (from thinc<8.4.0,>=8.3.4->spacy) (0.1.5)\n",
            "Requirement already satisfied: click>=8.0.0 in /usr/local/lib/python3.11/dist-packages (from typer<1.0.0,>=0.3.0->spacy) (8.2.1)\n",
            "Requirement already satisfied: shellingham>=1.3.0 in /usr/local/lib/python3.11/dist-packages (from typer<1.0.0,>=0.3.0->spacy) (1.5.4)\n",
            "Requirement already satisfied: rich>=10.11.0 in /usr/local/lib/python3.11/dist-packages (from typer<1.0.0,>=0.3.0->spacy) (13.9.4)\n",
            "Requirement already satisfied: cloudpathlib<1.0.0,>=0.7.0 in /usr/local/lib/python3.11/dist-packages (from weasel<0.5.0,>=0.1.0->spacy) (0.21.1)\n",
            "Requirement already satisfied: smart-open<8.0.0,>=5.2.1 in /usr/local/lib/python3.11/dist-packages (from weasel<0.5.0,>=0.1.0->spacy) (7.3.0.post1)\n",
            "Requirement already satisfied: MarkupSafe>=2.0 in /usr/local/lib/python3.11/dist-packages (from jinja2->spacy) (3.0.2)\n",
            "Requirement already satisfied: marisa-trie>=1.1.0 in /usr/local/lib/python3.11/dist-packages (from language-data>=1.2->langcodes<4.0.0,>=3.2.0->spacy) (1.2.1)\n",
            "Requirement already satisfied: markdown-it-py>=2.2.0 in /usr/local/lib/python3.11/dist-packages (from rich>=10.11.0->typer<1.0.0,>=0.3.0->spacy) (3.0.0)\n",
            "Requirement already satisfied: pygments<3.0.0,>=2.13.0 in /usr/local/lib/python3.11/dist-packages (from rich>=10.11.0->typer<1.0.0,>=0.3.0->spacy) (2.19.2)\n",
            "Requirement already satisfied: wrapt in /usr/local/lib/python3.11/dist-packages (from smart-open<8.0.0,>=5.2.1->weasel<0.5.0,>=0.1.0->spacy) (1.17.2)\n",
            "Requirement already satisfied: mdurl~=0.1 in /usr/local/lib/python3.11/dist-packages (from markdown-it-py>=2.2.0->rich>=10.11.0->typer<1.0.0,>=0.3.0->spacy) (0.1.2)\n"
          ]
        }
      ],
      "source": [
        "!pip install pandas spacy"
      ]
    },
    {
      "cell_type": "code",
      "source": [
        "import pandas as pd\n",
        "import spacy"
      ],
      "metadata": {
        "id": "hLGChFCrrMVk"
      },
      "execution_count": null,
      "outputs": []
    },
    {
      "cell_type": "code",
      "source": [
        "nlp=spacy.load('en_core_web_sm')"
      ],
      "metadata": {
        "id": "Jy9WV4sgsQot"
      },
      "execution_count": null,
      "outputs": []
    },
    {
      "cell_type": "code",
      "source": [
        "df=pd.read_csv('/bbc_news.csv')"
      ],
      "metadata": {
        "id": "dstXl7DDrAGK"
      },
      "execution_count": null,
      "outputs": []
    },
    {
      "cell_type": "code",
      "source": [
        "print(df)"
      ],
      "metadata": {
        "colab": {
          "base_uri": "https://localhost:8080/"
        },
        "id": "0IsU8egnrQS9",
        "outputId": "1f26737a-a364-4bab-dc79-6edb6b550eca"
      },
      "execution_count": null,
      "outputs": [
        {
          "output_type": "stream",
          "name": "stdout",
          "text": [
            "                                                   title  \\\n",
            "0      Ukraine: Angry Zelensky vows to punish Russian...   \n",
            "1      War in Ukraine: Taking cover in a town under a...   \n",
            "2             Ukraine war 'catastrophic for global food'   \n",
            "3      Manchester Arena bombing: Saffie Roussos's par...   \n",
            "4      Ukraine conflict: Oil price soars to highest l...   \n",
            "...                                                  ...   \n",
            "42110           Highlights: Wales make history in Dublin   \n",
            "42111  Gang jailed over £200m of cocaine in banana boxes   \n",
            "42112   Scottish Budget presents huge challenges for SNP   \n",
            "42113  Celebrations as Wales make history qualifying ...   \n",
            "42114  School tells Muslim girls it’s ‘not safe’ for ...   \n",
            "\n",
            "                             pubDate  \\\n",
            "0      Mon, 07 Mar 2022 08:01:56 GMT   \n",
            "1      Sun, 06 Mar 2022 22:49:58 GMT   \n",
            "2      Mon, 07 Mar 2022 00:14:42 GMT   \n",
            "3      Mon, 07 Mar 2022 00:05:40 GMT   \n",
            "4      Mon, 07 Mar 2022 08:15:53 GMT   \n",
            "...                              ...   \n",
            "42110  Tue, 03 Dec 2024 23:07:27 GMT   \n",
            "42111  Tue, 03 Dec 2024 17:48:54 GMT   \n",
            "42112  Tue, 03 Dec 2024 23:00:17 GMT   \n",
            "42113  Wed, 04 Dec 2024 00:05:52 GMT   \n",
            "42114  Wed, 04 Dec 2024 00:03:58 GMT   \n",
            "\n",
            "                                                    guid  \\\n",
            "0       https://www.bbc.co.uk/news/world-europe-60638042   \n",
            "1       https://www.bbc.co.uk/news/world-europe-60641873   \n",
            "2           https://www.bbc.co.uk/news/business-60623941   \n",
            "3                 https://www.bbc.co.uk/news/uk-60579079   \n",
            "4           https://www.bbc.co.uk/news/business-60642786   \n",
            "...                                                  ...   \n",
            "42110  https://www.bbc.com/sport/football/videos/ckg1...   \n",
            "42111   https://www.bbc.com/news/articles/c3e8pvg284no#9   \n",
            "42112   https://www.bbc.com/news/articles/ckg1m1j2grpo#9   \n",
            "42113   https://www.bbc.com/news/articles/c791nq8nl73o#9   \n",
            "42114   https://www.bbc.com/news/articles/cx2wk0k4597o#9   \n",
            "\n",
            "                                                    link  \\\n",
            "0      https://www.bbc.co.uk/news/world-europe-606380...   \n",
            "1      https://www.bbc.co.uk/news/world-europe-606418...   \n",
            "2      https://www.bbc.co.uk/news/business-60623941?a...   \n",
            "3      https://www.bbc.co.uk/news/uk-60579079?at_medi...   \n",
            "4      https://www.bbc.co.uk/news/business-60642786?a...   \n",
            "...                                                  ...   \n",
            "42110  https://www.bbc.com/sport/football/videos/ckg1...   \n",
            "42111     https://www.bbc.com/news/articles/c3e8pvg284no   \n",
            "42112     https://www.bbc.com/news/articles/ckg1m1j2grpo   \n",
            "42113     https://www.bbc.com/news/articles/c791nq8nl73o   \n",
            "42114     https://www.bbc.com/news/articles/cx2wk0k4597o   \n",
            "\n",
            "                                             description  \n",
            "0      The Ukrainian president says the country will ...  \n",
            "1      Jeremy Bowen was on the frontline in Irpin, as...  \n",
            "2      One of the world's biggest fertiliser firms sa...  \n",
            "3      The parents of the Manchester Arena bombing's ...  \n",
            "4      Consumers are feeling the impact of higher ene...  \n",
            "...                                                  ...  \n",
            "42110  Watch highlights as Wales win 2-1 in Dublin fo...  \n",
            "42111  More than two tonnes of the Class A drug was s...  \n",
            "42112  Finance Secretary Shona Robison is preparing t...  \n",
            "42113  Wales defeated the Republic of Ireland 2-1 mak...  \n",
            "42114  Three children have not been back to the Belfa...  \n",
            "\n",
            "[42115 rows x 5 columns]\n"
          ]
        }
      ]
    },
    {
      "cell_type": "code",
      "source": [
        "print(df['title'])"
      ],
      "metadata": {
        "colab": {
          "base_uri": "https://localhost:8080/"
        },
        "id": "ZjzP3rKhrye0",
        "outputId": "e786036a-91f9-4728-a7b7-c319e0107682"
      },
      "execution_count": null,
      "outputs": [
        {
          "output_type": "stream",
          "name": "stdout",
          "text": [
            "0        Ukraine: Angry Zelensky vows to punish Russian...\n",
            "1        War in Ukraine: Taking cover in a town under a...\n",
            "2               Ukraine war 'catastrophic for global food'\n",
            "3        Manchester Arena bombing: Saffie Roussos's par...\n",
            "4        Ukraine conflict: Oil price soars to highest l...\n",
            "                               ...                        \n",
            "42110             Highlights: Wales make history in Dublin\n",
            "42111    Gang jailed over £200m of cocaine in banana boxes\n",
            "42112     Scottish Budget presents huge challenges for SNP\n",
            "42113    Celebrations as Wales make history qualifying ...\n",
            "42114    School tells Muslim girls it’s ‘not safe’ for ...\n",
            "Name: title, Length: 42115, dtype: object\n"
          ]
        }
      ]
    },
    {
      "cell_type": "code",
      "source": [
        "text=df['title'].iloc[0]\n",
        "print(\"Original Title:\\n\",text)"
      ],
      "metadata": {
        "colab": {
          "base_uri": "https://localhost:8080/"
        },
        "id": "So75jEfEsMXC",
        "outputId": "f2d23298-2ce5-4f13-d4cd-1a5933612015"
      },
      "execution_count": null,
      "outputs": [
        {
          "output_type": "stream",
          "name": "stdout",
          "text": [
            "Original Title:\n",
            " Ukraine: Angry Zelensky vows to punish Russian atrocities\n"
          ]
        }
      ]
    },
    {
      "cell_type": "code",
      "source": [
        "desc=df['description'].iloc[0]\n",
        "print(desc)"
      ],
      "metadata": {
        "colab": {
          "base_uri": "https://localhost:8080/"
        },
        "id": "zW9RezL4tKZr",
        "outputId": "d45f6c76-72f3-478f-98e7-6b4985d3aaf5"
      },
      "execution_count": null,
      "outputs": [
        {
          "output_type": "stream",
          "name": "stdout",
          "text": [
            "The Ukrainian president says the country will not forgive or forget those who murder its civilians.\n"
          ]
        }
      ]
    },
    {
      "cell_type": "code",
      "source": [
        "print('\\n Sentence Tokenization:')\n",
        "doc=nlp(text)\n",
        "for sent in doc.sents:\n",
        "  print(sent.text)"
      ],
      "metadata": {
        "colab": {
          "base_uri": "https://localhost:8080/"
        },
        "id": "ba62nMSRuVha",
        "outputId": "0699bab0-928b-43cc-92fe-4f69ccf93958"
      },
      "execution_count": null,
      "outputs": [
        {
          "output_type": "stream",
          "name": "stdout",
          "text": [
            "\n",
            " Sentence Tokenization:\n",
            "Ukraine: Angry Zelensky vows to punish Russian atrocities\n"
          ]
        }
      ]
    },
    {
      "cell_type": "code",
      "source": [
        "print('\\n Word Tokenization:')\n",
        "for token in doc:\n",
        "  print(token.text)"
      ],
      "metadata": {
        "colab": {
          "base_uri": "https://localhost:8080/"
        },
        "id": "qxqYf5SVucNI",
        "outputId": "25a4854d-4ba0-4ce3-e474-bb2fbe675f69"
      },
      "execution_count": null,
      "outputs": [
        {
          "output_type": "stream",
          "name": "stdout",
          "text": [
            "\n",
            " Word Tokenization:\n",
            "Ukraine\n",
            ":\n",
            "Angry\n",
            "Zelensky\n",
            "vows\n",
            "to\n",
            "punish\n",
            "Russian\n",
            "atrocities\n"
          ]
        }
      ]
    },
    {
      "cell_type": "code",
      "source": [
        "for i in range (0,10):\n",
        "  print(df['title'].iloc[i])"
      ],
      "metadata": {
        "colab": {
          "base_uri": "https://localhost:8080/"
        },
        "id": "PHOUKoYtvjuN",
        "outputId": "3864cb56-c6bc-4df3-ddee-17b3d673bd60"
      },
      "execution_count": null,
      "outputs": [
        {
          "output_type": "stream",
          "name": "stdout",
          "text": [
            "Ukraine: Angry Zelensky vows to punish Russian atrocities\n",
            "War in Ukraine: Taking cover in a town under attack\n",
            "Ukraine war 'catastrophic for global food'\n",
            "Manchester Arena bombing: Saffie Roussos's parents on hearing the truth\n",
            "Ukraine conflict: Oil price soars to highest level since 2008\n",
            "Ukraine war: PM to hold talks with world leaders on further sanctions\n",
            "Ukraine war: UK grants 50 Ukrainian refugee visas so far\n",
            "TikTok limits services as Netflix pulls out of Russia\n",
            "Covid: Fourth jab for Scotland's vulnerable, and testing wind down fears in Wales\n",
            "Protests across Russia see thousands detained\n"
          ]
        }
      ]
    },
    {
      "cell_type": "code",
      "source": [
        "  for i in range (0,10):#Sentence tokenization\n",
        "    doc=nlp(df['title'].iloc[i])\n",
        "    for sent in doc.sents:\n",
        "      print(sent.text)"
      ],
      "metadata": {
        "colab": {
          "base_uri": "https://localhost:8080/"
        },
        "id": "Dp_dQlT_wBV0",
        "outputId": "d25e42ed-5e16-4390-e7ce-734dd11d094c"
      },
      "execution_count": null,
      "outputs": [
        {
          "output_type": "stream",
          "name": "stdout",
          "text": [
            "Ukraine: Angry Zelensky vows to punish Russian atrocities\n",
            "War in Ukraine:\n",
            "Taking cover in a town under attack\n",
            "Ukraine war 'catastrophic for global food'\n",
            "Manchester Arena bombing: Saffie Roussos's parents on hearing the truth\n",
            "Ukraine conflict: Oil price soars to highest level since 2008\n",
            "Ukraine war: PM to hold talks with world leaders on further sanctions\n",
            "Ukraine war: UK grants 50 Ukrainian refugee visas so far\n",
            "TikTok limits services as Netflix pulls out of Russia\n",
            "Covid: Fourth jab for Scotland's vulnerable, and testing wind down fears in Wales\n",
            "Protests across Russia see thousands detained\n"
          ]
        }
      ]
    },
    {
      "cell_type": "code",
      "source": [
        "#Word Tokenization\n",
        "for i in range (0,10):\n",
        "    doc=nlp(df['title'].iloc[i])\n",
        "    for token in doc:\n",
        "      print(token.text)"
      ],
      "metadata": {
        "colab": {
          "base_uri": "https://localhost:8080/"
        },
        "id": "WbqtL3yHw1yz",
        "outputId": "50f95812-c683-48b3-d1bc-c29d790f8cc6"
      },
      "execution_count": null,
      "outputs": [
        {
          "output_type": "stream",
          "name": "stdout",
          "text": [
            "Ukraine\n",
            ":\n",
            "Angry\n",
            "Zelensky\n",
            "vows\n",
            "to\n",
            "punish\n",
            "Russian\n",
            "atrocities\n",
            "War\n",
            "in\n",
            "Ukraine\n",
            ":\n",
            "Taking\n",
            "cover\n",
            "in\n",
            "a\n",
            "town\n",
            "under\n",
            "attack\n",
            "Ukraine\n",
            "war\n",
            "'\n",
            "catastrophic\n",
            "for\n",
            "global\n",
            "food\n",
            "'\n",
            "Manchester\n",
            "Arena\n",
            "bombing\n",
            ":\n",
            "Saffie\n",
            "Roussos\n",
            "'s\n",
            "parents\n",
            "on\n",
            "hearing\n",
            "the\n",
            "truth\n",
            "Ukraine\n",
            "conflict\n",
            ":\n",
            "Oil\n",
            "price\n",
            "soars\n",
            "to\n",
            "highest\n",
            "level\n",
            "since\n",
            "2008\n",
            "Ukraine\n",
            "war\n",
            ":\n",
            "PM\n",
            "to\n",
            "hold\n",
            "talks\n",
            "with\n",
            "world\n",
            "leaders\n",
            "on\n",
            "further\n",
            "sanctions\n",
            "Ukraine\n",
            "war\n",
            ":\n",
            "UK\n",
            "grants\n",
            "50\n",
            "Ukrainian\n",
            "refugee\n",
            "visas\n",
            "so\n",
            "far\n",
            "TikTok\n",
            "limits\n",
            "services\n",
            "as\n",
            "Netflix\n",
            "pulls\n",
            "out\n",
            "of\n",
            "Russia\n",
            "Covid\n",
            ":\n",
            "Fourth\n",
            "jab\n",
            "for\n",
            "Scotland\n",
            "'s\n",
            "vulnerable\n",
            ",\n",
            "and\n",
            "testing\n",
            "wind\n",
            "down\n",
            "fears\n",
            "in\n",
            "Wales\n",
            "Protests\n",
            "across\n",
            "Russia\n",
            "see\n",
            "thousands\n",
            "detained\n"
          ]
        }
      ]
    },
    {
      "cell_type": "code",
      "source": [
        "for i in range (0,10):\n",
        "  print(df['description'].iloc[i])"
      ],
      "metadata": {
        "colab": {
          "base_uri": "https://localhost:8080/"
        },
        "id": "vE9Ng7gazGRR",
        "outputId": "bd28c4d5-c186-47d1-9cab-65addac3d632"
      },
      "execution_count": null,
      "outputs": [
        {
          "output_type": "stream",
          "name": "stdout",
          "text": [
            "The Ukrainian president says the country will not forgive or forget those who murder its civilians.\n",
            "Jeremy Bowen was on the frontline in Irpin, as residents came under Russian fire while trying to flee.\n",
            "One of the world's biggest fertiliser firms says the conflict could deliver a shock to food supplies.\n",
            "The parents of the Manchester Arena bombing's youngest victim speak about their life since she died.\n",
            "Consumers are feeling the impact of higher energy costs as fuel prices and household bills jump.\n",
            "Boris Johnson is to meet the Canadian and Dutch PMs, as MPs debate new laws targeting oligarchs.\n",
            "The home secretary says she is \"surging capacity\" as about 1% of 5,500 applications are granted.\n",
            "TikTok suspends live streaming and new content from its platform, while Russians can no longer access Netflix.\n",
            "Five things you need to know about the coronavirus pandemic this Monday morning.\n",
            "People have been held in 53 cities, from St Petersburg in the west to Vladivostok in the east.\n"
          ]
        }
      ]
    },
    {
      "cell_type": "code",
      "source": [
        "from nltk.stem import PorterStemmer\n",
        "st=PorterStemmer()\n",
        "for t in doc:\n",
        "  if t.is_alpha:\n",
        "    print(t,'==',t.lemma_,'===',st.stem(t.text))"
      ],
      "metadata": {
        "colab": {
          "base_uri": "https://localhost:8080/"
        },
        "id": "vLVfiGfX2s1Q",
        "outputId": "f5e8efcc-1edb-4b45-a5fc-cb301f12b5eb"
      },
      "execution_count": null,
      "outputs": [
        {
          "output_type": "stream",
          "name": "stdout",
          "text": [
            "Protests == protest === protest\n",
            "across == across === across\n",
            "Russia == Russia === russia\n",
            "see == see === see\n",
            "thousands == thousand === thousand\n",
            "detained == detain === detain\n"
          ]
        }
      ]
    },
    {
      "cell_type": "code",
      "source": [
        "for i in range(0, 10):\n",
        "    title_text = df['title'].iloc[i]\n",
        "    description_text = df['description'].iloc[i]\n",
        "\n",
        "    print(\"Title:\")\n",
        "    doc_title = nlp(title_text)\n",
        "    for t in doc_title:\n",
        "        if t.is_alpha:\n",
        "            print(t, \"==\", t.lemma_, \"===\", st.stem(t.text))\n",
        "\n",
        "    print(\"\\nDescription:\")\n",
        "    doc_desc = nlp(description_text)\n",
        "    for t in doc_desc:\n",
        "        if t.is_alpha:\n",
        "            print(t, \"==\", t.lemma_, \"===\", st.stem(t.text))"
      ],
      "metadata": {
        "colab": {
          "base_uri": "https://localhost:8080/"
        },
        "id": "F5IPiOtS3hfq",
        "outputId": "1e9c5cdc-663f-400d-8197-ca8832ba1e06"
      },
      "execution_count": null,
      "outputs": [
        {
          "output_type": "stream",
          "name": "stdout",
          "text": [
            "Title:\n",
            "Ukraine == Ukraine === ukrain\n",
            "Angry == angry === angri\n",
            "Zelensky == Zelensky === zelenski\n",
            "vows == vow === vow\n",
            "to == to === to\n",
            "punish == punish === punish\n",
            "Russian == russian === russian\n",
            "atrocities == atrocity === atroc\n",
            "\n",
            "Description:\n",
            "The == the === the\n",
            "Ukrainian == ukrainian === ukrainian\n",
            "president == president === presid\n",
            "says == say === say\n",
            "the == the === the\n",
            "country == country === countri\n",
            "will == will === will\n",
            "not == not === not\n",
            "forgive == forgive === forgiv\n",
            "or == or === or\n",
            "forget == forget === forget\n",
            "those == those === those\n",
            "who == who === who\n",
            "murder == murder === murder\n",
            "its == its === it\n",
            "civilians == civilian === civilian\n",
            "Title:\n",
            "War == War === war\n",
            "in == in === in\n",
            "Ukraine == Ukraine === ukrain\n",
            "Taking == take === take\n",
            "cover == cover === cover\n",
            "in == in === in\n",
            "a == a === a\n",
            "town == town === town\n",
            "under == under === under\n",
            "attack == attack === attack\n",
            "\n",
            "Description:\n",
            "Jeremy == Jeremy === jeremi\n",
            "Bowen == Bowen === bowen\n",
            "was == be === wa\n",
            "on == on === on\n",
            "the == the === the\n",
            "frontline == frontline === frontlin\n",
            "in == in === in\n",
            "Irpin == Irpin === irpin\n",
            "as == as === as\n",
            "residents == resident === resid\n",
            "came == come === came\n",
            "under == under === under\n",
            "Russian == russian === russian\n",
            "fire == fire === fire\n",
            "while == while === while\n",
            "trying == try === tri\n",
            "to == to === to\n",
            "flee == flee === flee\n",
            "Title:\n",
            "Ukraine == Ukraine === ukrain\n",
            "war == war === war\n",
            "catastrophic == catastrophic === catastroph\n",
            "for == for === for\n",
            "global == global === global\n",
            "food == food === food\n",
            "\n",
            "Description:\n",
            "One == one === one\n",
            "of == of === of\n",
            "the == the === the\n",
            "world == world === world\n",
            "biggest == big === biggest\n",
            "fertiliser == fertiliser === fertilis\n",
            "firms == firm === firm\n",
            "says == say === say\n",
            "the == the === the\n",
            "conflict == conflict === conflict\n",
            "could == could === could\n",
            "deliver == deliver === deliv\n",
            "a == a === a\n",
            "shock == shock === shock\n",
            "to == to === to\n",
            "food == food === food\n",
            "supplies == supply === suppli\n",
            "Title:\n",
            "Manchester == Manchester === manchest\n",
            "Arena == Arena === arena\n",
            "bombing == bombing === bomb\n",
            "Saffie == Saffie === saffi\n",
            "Roussos == Roussos === rousso\n",
            "parents == parent === parent\n",
            "on == on === on\n",
            "hearing == hear === hear\n",
            "the == the === the\n",
            "truth == truth === truth\n",
            "\n",
            "Description:\n",
            "The == the === the\n",
            "parents == parent === parent\n",
            "of == of === of\n",
            "the == the === the\n",
            "Manchester == Manchester === manchest\n",
            "Arena == Arena === arena\n",
            "bombing == bombing === bomb\n",
            "youngest == young === youngest\n",
            "victim == victim === victim\n",
            "speak == speak === speak\n",
            "about == about === about\n",
            "their == their === their\n",
            "life == life === life\n",
            "since == since === sinc\n",
            "she == she === she\n",
            "died == die === die\n",
            "Title:\n",
            "Ukraine == Ukraine === ukrain\n",
            "conflict == conflict === conflict\n",
            "Oil == oil === oil\n",
            "price == price === price\n",
            "soars == soar === soar\n",
            "to == to === to\n",
            "highest == high === highest\n",
            "level == level === level\n",
            "since == since === sinc\n",
            "\n",
            "Description:\n",
            "Consumers == consumer === consum\n",
            "are == be === are\n",
            "feeling == feel === feel\n",
            "the == the === the\n",
            "impact == impact === impact\n",
            "of == of === of\n",
            "higher == high === higher\n",
            "energy == energy === energi\n",
            "costs == cost === cost\n",
            "as == as === as\n",
            "fuel == fuel === fuel\n",
            "prices == price === price\n",
            "and == and === and\n",
            "household == household === household\n",
            "bills == bill === bill\n",
            "jump == jump === jump\n",
            "Title:\n",
            "Ukraine == Ukraine === ukrain\n",
            "war == war === war\n",
            "PM == pm === pm\n",
            "to == to === to\n",
            "hold == hold === hold\n",
            "talks == talk === talk\n",
            "with == with === with\n",
            "world == world === world\n",
            "leaders == leader === leader\n",
            "on == on === on\n",
            "further == further === further\n",
            "sanctions == sanction === sanction\n",
            "\n",
            "Description:\n",
            "Boris == Boris === bori\n",
            "Johnson == Johnson === johnson\n",
            "is == be === is\n",
            "to == to === to\n",
            "meet == meet === meet\n",
            "the == the === the\n",
            "Canadian == canadian === canadian\n",
            "and == and === and\n",
            "Dutch == dutch === dutch\n",
            "PMs == pm === pm\n",
            "as == as === as\n",
            "MPs == mp === mp\n",
            "debate == debate === debat\n",
            "new == new === new\n",
            "laws == law === law\n",
            "targeting == target === target\n",
            "oligarchs == oligarch === oligarch\n",
            "Title:\n",
            "Ukraine == Ukraine === ukrain\n",
            "war == war === war\n",
            "UK == UK === uk\n",
            "grants == grant === grant\n",
            "Ukrainian == ukrainian === ukrainian\n",
            "refugee == refugee === refuge\n",
            "visas == visa === visa\n",
            "so == so === so\n",
            "far == far === far\n",
            "\n",
            "Description:\n",
            "The == the === the\n",
            "home == home === home\n",
            "secretary == secretary === secretari\n",
            "says == say === say\n",
            "she == she === she\n",
            "is == be === is\n",
            "surging == surge === surg\n",
            "capacity == capacity === capac\n",
            "as == as === as\n",
            "about == about === about\n",
            "of == of === of\n",
            "applications == application === applic\n",
            "are == be === are\n",
            "granted == grant === grant\n",
            "Title:\n",
            "TikTok == tiktok === tiktok\n",
            "limits == limit === limit\n",
            "services == service === servic\n",
            "as == as === as\n",
            "Netflix == Netflix === netflix\n",
            "pulls == pull === pull\n",
            "out == out === out\n",
            "of == of === of\n",
            "Russia == Russia === russia\n",
            "\n",
            "Description:\n",
            "TikTok == tiktok === tiktok\n",
            "suspends == suspend === suspend\n",
            "live == live === live\n",
            "streaming == streaming === stream\n",
            "and == and === and\n",
            "new == new === new\n",
            "content == content === content\n",
            "from == from === from\n",
            "its == its === it\n",
            "platform == platform === platform\n",
            "while == while === while\n",
            "Russians == Russians === russian\n",
            "can == can === can\n",
            "no == no === no\n",
            "longer == long === longer\n",
            "access == access === access\n",
            "Netflix == Netflix === netflix\n",
            "Title:\n",
            "Covid == covid === covid\n",
            "Fourth == fourth === fourth\n",
            "jab == jab === jab\n",
            "for == for === for\n",
            "Scotland == Scotland === scotland\n",
            "vulnerable == vulnerable === vulner\n",
            "and == and === and\n",
            "testing == test === test\n",
            "wind == wind === wind\n",
            "down == down === down\n",
            "fears == fear === fear\n",
            "in == in === in\n",
            "Wales == Wales === wale\n",
            "\n",
            "Description:\n",
            "Five == five === five\n",
            "things == thing === thing\n",
            "you == you === you\n",
            "need == need === need\n",
            "to == to === to\n",
            "know == know === know\n",
            "about == about === about\n",
            "the == the === the\n",
            "coronavirus == coronavirus === coronaviru\n",
            "pandemic == pandemic === pandem\n",
            "this == this === thi\n",
            "Monday == Monday === monday\n",
            "morning == morning === morn\n",
            "Title:\n",
            "Protests == protest === protest\n",
            "across == across === across\n",
            "Russia == Russia === russia\n",
            "see == see === see\n",
            "thousands == thousand === thousand\n",
            "detained == detain === detain\n",
            "\n",
            "Description:\n",
            "People == People === peopl\n",
            "have == have === have\n",
            "been == be === been\n",
            "held == hold === held\n",
            "in == in === in\n",
            "cities == city === citi\n",
            "from == from === from\n",
            "St == St === st\n",
            "Petersburg == Petersburg === petersburg\n",
            "in == in === in\n",
            "the == the === the\n",
            "west == west === west\n",
            "to == to === to\n",
            "Vladivostok == Vladivostok === vladivostok\n",
            "in == in === in\n",
            "the == the === the\n",
            "east == east === east\n"
          ]
        }
      ]
    },
    {
      "cell_type": "code",
      "source": [
        "word = \"changing\"\n",
        "doc_word = nlp(word)\n",
        "\n",
        "print(f\"Original word: {word}\")\n",
        "\n",
        "#lemmatization\n",
        "if doc_word:\n",
        "    print(f\"lemma: {doc_word[0].lemma_}\")\n",
        "\n",
        "#stemming\n",
        "print(f\"stem: {st.stem(word)}\")"
      ],
      "metadata": {
        "colab": {
          "base_uri": "https://localhost:8080/"
        },
        "id": "QRgE5JZn3yEj",
        "outputId": "776d8d6b-74b4-494b-dcaf-7e3aad33b960"
      },
      "execution_count": null,
      "outputs": [
        {
          "output_type": "stream",
          "name": "stdout",
          "text": [
            "Original word: changing\n",
            "lemma: change\n",
            "stem: chang\n"
          ]
        }
      ]
    },
    {
      "cell_type": "code",
      "source": [
        "text=\"Wikipedia is a free online encyclopedia written and maintained by a community of volunteers, known as Wikipedians, through open collaboration and the wiki software MediaWiki. Founded by Jimmy Wales and Larry Sanger in 2001, Wikipedia has been hosted since 2003 by the Wikimedia Foundation, an American nonprofit organization funded mainly by donations from readers.Wikipedia is the largest and most-read reference work in history.\""
      ],
      "metadata": {
        "id": "VkHf08II81Vk"
      },
      "execution_count": null,
      "outputs": []
    },
    {
      "cell_type": "code",
      "source": [
        "doc=nlp(text)"
      ],
      "metadata": {
        "id": "zWzkqVFu84l4"
      },
      "execution_count": null,
      "outputs": []
    },
    {
      "cell_type": "code",
      "source": [
        "#Sentence tokenization\n",
        "for s in doc.sents:\n",
        "    print(s.text)"
      ],
      "metadata": {
        "colab": {
          "base_uri": "https://localhost:8080/"
        },
        "id": "vdKpnOfT8_jx",
        "outputId": "0d9f5df7-8e4d-49bd-b958-4177b4730eba"
      },
      "execution_count": null,
      "outputs": [
        {
          "output_type": "stream",
          "name": "stdout",
          "text": [
            "Wikipedia is a free online encyclopedia written and maintained by a community of volunteers, known as Wikipedians, through open collaboration and the wiki software MediaWiki.\n",
            "Founded by Jimmy Wales and Larry Sanger in 2001, Wikipedia has been hosted since 2003 by the Wikimedia Foundation, an American nonprofit organization funded mainly by donations from readers.\n",
            "Wikipedia is the largest and most-read reference work in history.\n"
          ]
        }
      ]
    },
    {
      "cell_type": "code",
      "source": [
        "#Word Tokenization\n",
        "for w in doc:\n",
        "  print(w.text)"
      ],
      "metadata": {
        "colab": {
          "base_uri": "https://localhost:8080/"
        },
        "id": "C-3rro6l9BSh",
        "outputId": "340dc022-2934-4bd0-ef80-4f3407d6e0c5"
      },
      "execution_count": null,
      "outputs": [
        {
          "output_type": "stream",
          "name": "stdout",
          "text": [
            "Wikipedia\n",
            "is\n",
            "a\n",
            "free\n",
            "online\n",
            "encyclopedia\n",
            "written\n",
            "and\n",
            "maintained\n",
            "by\n",
            "a\n",
            "community\n",
            "of\n",
            "volunteers\n",
            ",\n",
            "known\n",
            "as\n",
            "Wikipedians\n",
            ",\n",
            "through\n",
            "open\n",
            "collaboration\n",
            "and\n",
            "the\n",
            "wiki\n",
            "software\n",
            "MediaWiki\n",
            ".\n",
            "Founded\n",
            "by\n",
            "Jimmy\n",
            "Wales\n",
            "and\n",
            "Larry\n",
            "Sanger\n",
            "in\n",
            "2001\n",
            ",\n",
            "Wikipedia\n",
            "has\n",
            "been\n",
            "hosted\n",
            "since\n",
            "2003\n",
            "by\n",
            "the\n",
            "Wikimedia\n",
            "Foundation\n",
            ",\n",
            "an\n",
            "American\n",
            "nonprofit\n",
            "organization\n",
            "funded\n",
            "mainly\n",
            "by\n",
            "donations\n",
            "from\n",
            "readers\n",
            ".\n",
            "Wikipedia\n",
            "is\n",
            "the\n",
            "largest\n",
            "and\n",
            "most\n",
            "-\n",
            "read\n",
            "reference\n",
            "work\n",
            "in\n",
            "history\n",
            ".\n"
          ]
        }
      ]
    },
    {
      "cell_type": "code",
      "source": [
        "for t in doc:\n",
        "  if t.is_alpha:\n",
        "    print(t)"
      ],
      "metadata": {
        "colab": {
          "base_uri": "https://localhost:8080/"
        },
        "id": "H3-ijFE69Dbr",
        "outputId": "9df1ec95-5b2c-4cfd-e7ea-4d71442c68df"
      },
      "execution_count": null,
      "outputs": [
        {
          "output_type": "stream",
          "name": "stdout",
          "text": [
            "Wikipedia\n",
            "is\n",
            "a\n",
            "free\n",
            "online\n",
            "encyclopedia\n",
            "written\n",
            "and\n",
            "maintained\n",
            "by\n",
            "a\n",
            "community\n",
            "of\n",
            "volunteers\n",
            "known\n",
            "as\n",
            "Wikipedians\n",
            "through\n",
            "open\n",
            "collaboration\n",
            "and\n",
            "the\n",
            "wiki\n",
            "software\n",
            "MediaWiki\n",
            "Founded\n",
            "by\n",
            "Jimmy\n",
            "Wales\n",
            "and\n",
            "Larry\n",
            "Sanger\n",
            "in\n",
            "Wikipedia\n",
            "has\n",
            "been\n",
            "hosted\n",
            "since\n",
            "by\n",
            "the\n",
            "Wikimedia\n",
            "Foundation\n",
            "an\n",
            "American\n",
            "nonprofit\n",
            "organization\n",
            "funded\n",
            "mainly\n",
            "by\n",
            "donations\n",
            "from\n",
            "readers\n",
            "Wikipedia\n",
            "is\n",
            "the\n",
            "largest\n",
            "and\n",
            "most\n",
            "read\n",
            "reference\n",
            "work\n",
            "in\n",
            "history\n"
          ]
        }
      ]
    },
    {
      "cell_type": "code",
      "source": [
        "from nltk.stem import PorterStemmer\n",
        "st=PorterStemmer()\n",
        "for t in doc:\n",
        "  if t.is_alpha:\n",
        "    print(t,'==',t.lemma_,'===',st.stem(t.text))\n",
        "\n",
        "    #t:original text,t.lemma=lemmatized text,st.stem(t.text)=stemmatised text"
      ],
      "metadata": {
        "colab": {
          "base_uri": "https://localhost:8080/"
        },
        "id": "376spp6F9GhG",
        "outputId": "45d0d5d9-ea03-4d89-9a49-1b5b22430d62"
      },
      "execution_count": null,
      "outputs": [
        {
          "output_type": "stream",
          "name": "stdout",
          "text": [
            "Wikipedia == Wikipedia === wikipedia\n",
            "is == be === is\n",
            "a == a === a\n",
            "free == free === free\n",
            "online == online === onlin\n",
            "encyclopedia == encyclopedia === encyclopedia\n",
            "written == write === written\n",
            "and == and === and\n",
            "maintained == maintain === maintain\n",
            "by == by === by\n",
            "a == a === a\n",
            "community == community === commun\n",
            "of == of === of\n",
            "volunteers == volunteer === volunt\n",
            "known == know === known\n",
            "as == as === as\n",
            "Wikipedians == Wikipedians === wikipedian\n",
            "through == through === through\n",
            "open == open === open\n",
            "collaboration == collaboration === collabor\n",
            "and == and === and\n",
            "the == the === the\n",
            "wiki == wiki === wiki\n",
            "software == software === softwar\n",
            "MediaWiki == MediaWiki === mediawiki\n",
            "Founded == found === found\n",
            "by == by === by\n",
            "Jimmy == Jimmy === jimmi\n",
            "Wales == Wales === wale\n",
            "and == and === and\n",
            "Larry == Larry === larri\n",
            "Sanger == Sanger === sanger\n",
            "in == in === in\n",
            "Wikipedia == Wikipedia === wikipedia\n",
            "has == have === ha\n",
            "been == be === been\n",
            "hosted == host === host\n",
            "since == since === sinc\n",
            "by == by === by\n",
            "the == the === the\n",
            "Wikimedia == Wikimedia === wikimedia\n",
            "Foundation == Foundation === foundat\n",
            "an == an === an\n",
            "American == american === american\n",
            "nonprofit == nonprofit === nonprofit\n",
            "organization == organization === organ\n",
            "funded == fund === fund\n",
            "mainly == mainly === mainli\n",
            "by == by === by\n",
            "donations == donation === donat\n",
            "from == from === from\n",
            "readers == reader === reader\n",
            "Wikipedia == Wikipedia === wikipedia\n",
            "is == be === is\n",
            "the == the === the\n",
            "largest == large === largest\n",
            "and == and === and\n",
            "most == most === most\n",
            "read == read === read\n",
            "reference == reference === refer\n",
            "work == work === work\n",
            "in == in === in\n",
            "history == history === histori\n"
          ]
        }
      ]
    }
  ]
}